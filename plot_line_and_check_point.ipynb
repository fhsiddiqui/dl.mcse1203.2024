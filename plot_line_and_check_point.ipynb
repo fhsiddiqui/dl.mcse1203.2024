{
  "nbformat": 4,
  "nbformat_minor": 0,
  "metadata": {
    "colab": {
      "provenance": [],
      "authorship_tag": "ABX9TyP/0fqy+dYO48LM+6sxD/fF",
      "include_colab_link": true
    },
    "kernelspec": {
      "name": "python3",
      "display_name": "Python 3"
    },
    "language_info": {
      "name": "python"
    }
  },
  "cells": [
    {
      "cell_type": "markdown",
      "metadata": {
        "id": "view-in-github",
        "colab_type": "text"
      },
      "source": [
        "<a href=\"https://colab.research.google.com/github/fhsiddiqui/dl.mcse1203.2024/blob/main/plot_line_and_check_point.ipynb\" target=\"_parent\"><img src=\"https://colab.research.google.com/assets/colab-badge.svg\" alt=\"Open In Colab\"/></a>"
      ]
    },
    {
      "cell_type": "code",
      "execution_count": null,
      "metadata": {
        "id": "hZyVDiOVYLA-"
      },
      "outputs": [],
      "source": [
        "import matplotlib.pyplot as plt\n",
        "\n",
        "def plot_line_and_check_point(m, c, point):\n",
        "    # Line equation: y = mx + c\n",
        "    x_values = range(-10, 11)\n",
        "    y_values = [m * x + c for x in x_values]\n",
        "\n",
        "    # Plotting the line\n",
        "    plt.plot(x_values, y_values, label=f'y = {m}x + {c}')\n",
        "\n",
        "    # Plotting the point\n",
        "    x_point, y_point = point\n",
        "    plt.scatter(x_point, y_point, color='red', label=f'Point ({x_point}, {y_point})')\n",
        "\n",
        "    # Determine if the point is above, below, or on the line\n",
        "    y_on_line = m * x_point + c\n",
        "    if y_point > y_on_line:\n",
        "        position = \"above\"\n",
        "    elif y_point < y_on_line:\n",
        "        position = \"below\"\n",
        "    else:\n",
        "        position = \"on\"\n",
        "\n",
        "    # Displaying the result on the plot\n",
        "    plt.text(x_point, y_point, f'({x_point}, {y_point}) is {position} the line', fontsize=12, ha='left')\n",
        "\n",
        "    # Labels and title\n",
        "    plt.xlabel('x')\n",
        "    plt.ylabel('y')\n",
        "    plt.axhline(0, color='black',linewidth=0.5)\n",
        "    plt.axvline(0, color='black',linewidth=0.5)\n",
        "    plt.grid(True)\n",
        "    plt.legend()\n",
        "    plt.title(f'Point relative to the line y = {m}x + {c}')\n",
        "\n",
        "    # Show plot\n",
        "    plt.show()\n",
        "\n",
        "    return position\n",
        "\n",
        "# Example usage\n",
        "m = 2  # slope of the line\n",
        "c = 5  # y-intercept of the line\n",
        "point = (3, 10)  # Point to check\n",
        "\n",
        "position = plot_line_and_check_point(m, c, point)\n",
        "print(f\"The point {point} is {position} the line y = {m}x + {c}\")\n"
      ]
    },
    {
      "cell_type": "code",
      "source": [
        "import matplotlib.pyplot as plt\n",
        "import numpy as np\n",
        "import ipywidgets as widgets\n",
        "from ipywidgets import interact\n",
        "\n",
        "def plot_line(m, c):\n",
        "    # Create a range of x values\n",
        "    x_values = np.linspace(-10, 10, 400)\n",
        "    # Calculate the corresponding y values for the line\n",
        "    y_values = m * x_values + c\n",
        "\n",
        "    # Plot the line\n",
        "    plt.figure(figsize=(8, 6))\n",
        "    plt.plot(x_values, y_values, label=f'y = {m}x + {c}')\n",
        "    plt.axhline(0, color='black', linewidth=0.5)\n",
        "    plt.axvline(0, color='black', linewidth=0.5)\n",
        "    plt.grid(True)\n",
        "    plt.xlim(-10, 10)\n",
        "    plt.ylim(-10, 10)\n",
        "    plt.xlabel('x')\n",
        "    plt.ylabel('y')\n",
        "    plt.title(f'Line: y = {m}x + {c}')\n",
        "    plt.legend()\n",
        "    plt.show()\n",
        "\n",
        "# Interactive sliders to change m and c\n",
        "interact(plot_line, m=widgets.FloatSlider(value=1, min=-10, max=10, step=0.1, description='Slope (m):'),\n",
        "                 c=widgets.FloatSlider(value=0, min=-10, max=10, step=0.1, description='Intercept (c):'))\n"
      ],
      "metadata": {
        "id": "QV_v3eeqdAAr"
      },
      "execution_count": null,
      "outputs": []
    }
  ]
}